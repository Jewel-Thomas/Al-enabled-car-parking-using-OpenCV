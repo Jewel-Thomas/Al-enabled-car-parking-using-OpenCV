{
  "nbformat": 4,
  "nbformat_minor": 0,
  "metadata": {
    "colab": {
      "provenance": [],
      "gpuType": "T4"
    },
    "kernelspec": {
      "name": "python3",
      "display_name": "Python 3"
    },
    "language_info": {
      "name": "python"
    },
    "accelerator": "GPU"
  },
  "cells": [
    {
      "cell_type": "code",
      "execution_count": 1,
      "metadata": {
        "colab": {
          "base_uri": "https://localhost:8080/"
        },
        "id": "id5znVoafoeU",
        "outputId": "aec36935-f2c1-48f6-eb24-41ea5ae40dd5"
      },
      "outputs": [
        {
          "output_type": "stream",
          "name": "stdout",
          "text": [
            "Archive:  /content/drive/MyDrive/Datasets/test_data.zip\n",
            "   creating: test_data/\n",
            "   creating: test_data/blasti/\n",
            "  inflating: test_data/blasti/DSC_6396.jpg  \n",
            "  inflating: test_data/blasti/DSC_6397.jpg  \n",
            "  inflating: test_data/blasti/DSC_6398.jpg  \n",
            "  inflating: test_data/blasti/DSC_6399.jpg  \n",
            "  inflating: test_data/blasti/DSC_6400.jpg  \n",
            "  inflating: test_data/blasti/DSC_6401.jpg  \n",
            "  inflating: test_data/blasti/DSC_6402.jpg  \n",
            "  inflating: test_data/blasti/DSC_6403.jpg  \n",
            "  inflating: test_data/blasti/DSC_6405.jpg  \n",
            "  inflating: test_data/blasti/DSC_6406.jpg  \n",
            "  inflating: test_data/blasti/DSC_6407.jpg  \n",
            "  inflating: test_data/blasti/DSC_6408.jpg  \n",
            "  inflating: test_data/blasti/DSC_6409.jpg  \n",
            "  inflating: test_data/blasti/DSC_6410.jpg  \n",
            "  inflating: test_data/blasti/DSC_6411.jpg  \n",
            "   creating: test_data/bonegl/\n",
            "  inflating: test_data/bonegl/DSC_4587.jpg  \n",
            "  inflating: test_data/bonegl/DSC_4588.jpg  \n",
            "  inflating: test_data/bonegl/DSC_4589.jpg  \n",
            "  inflating: test_data/bonegl/DSC_4590.jpg  \n",
            "  inflating: test_data/bonegl/DSC_4591.jpg  \n",
            "  inflating: test_data/bonegl/DSC_4592.jpg  \n",
            "  inflating: test_data/bonegl/DSC_4593.jpg  \n",
            "   creating: test_data/brhkyt/\n",
            "  inflating: test_data/brhkyt/D72_0473.jpg  \n",
            "  inflating: test_data/brhkyt/D72_0474.jpg  \n",
            "  inflating: test_data/brhkyt/D72_0475.jpg  \n",
            "  inflating: test_data/brhkyt/D72_0477.jpg  \n",
            "  inflating: test_data/brhkyt/D72_0478.jpg  \n",
            "  inflating: test_data/brhkyt/D72_0479.jpg  \n",
            "   creating: test_data/cbrtsh/\n",
            "  inflating: test_data/cbrtsh/_D32_10310.jpg  \n",
            "  inflating: test_data/cbrtsh/_D32_10311.jpg  \n",
            "  inflating: test_data/cbrtsh/_D32_10312.jpg  \n",
            "  inflating: test_data/cbrtsh/_D32_10313.jpg  \n",
            "  inflating: test_data/cbrtsh/_D32_10314.jpg  \n",
            "  inflating: test_data/cbrtsh/_D32_10317.jpg  \n",
            "  inflating: test_data/cbrtsh/_D32_10318.jpg  \n",
            "   creating: test_data/cmnmyn/\n",
            "  inflating: test_data/cmnmyn/DSC_2443.jpg  \n",
            "  inflating: test_data/cmnmyn/DSC_4681.jpg  \n",
            "  inflating: test_data/cmnmyn/DSC_5137.jpg  \n",
            "  inflating: test_data/cmnmyn/DSC_7625.jpg  \n",
            "  inflating: test_data/cmnmyn/P1050277.jpg  \n",
            "  inflating: test_data/cmnmyn/_D32_12426.jpg  \n",
            "  inflating: test_data/cmnmyn/_D32_12427.jpg  \n",
            "  inflating: test_data/cmnmyn/_D32_12428.jpg  \n",
            "   creating: test_data/gretit/\n",
            "  inflating: test_data/gretit/11620454726_31a35c26da_o.jpg  \n",
            "  inflating: test_data/gretit/11776135285_ccf938fa2e_o.jpg  \n",
            "  inflating: test_data/gretit/11905645146_6a5d4ff9f9_o.jpg  \n",
            "  inflating: test_data/gretit/8537646712_0b282c4c6a_o.jpg  \n",
            "  inflating: test_data/gretit/D72_0693.jpg  \n",
            "  inflating: test_data/gretit/D72_0694.jpg  \n",
            "  inflating: test_data/gretit/D72_0695.jpg  \n",
            "   creating: test_data/hilpig/\n",
            "  inflating: test_data/hilpig/DSC_6359.jpg  \n",
            "  inflating: test_data/hilpig/DSC_6362.jpg  \n",
            "  inflating: test_data/hilpig/DSC_6364.jpg  \n",
            "  inflating: test_data/hilpig/DSC_6368.jpg  \n",
            "  inflating: test_data/hilpig/DSC_6403.jpg  \n",
            "  inflating: test_data/hilpig/DSC_6404.jpg  \n",
            "  inflating: test_data/hilpig/P1000319.jpg  \n",
            "  inflating: test_data/hilpig/P1000323.jpg  \n",
            "  inflating: test_data/hilpig/P1050044.jpg  \n",
            "  inflating: test_data/hilpig/P1050045.jpg  \n",
            "   creating: test_data/himbul/\n",
            "  inflating: test_data/himbul/11602064885_3826df4500_o.jpg  \n",
            "  inflating: test_data/himbul/11619942574_42f23a7b05_o.jpg  \n",
            "  inflating: test_data/himbul/11620097904_33fa8ee878_o.jpg  \n",
            "  inflating: test_data/himbul/5857371972_ed4f88b275_o.jpg  \n",
            "  inflating: test_data/himbul/6154954471_eefe6e00d1_o.jpg  \n",
            "  inflating: test_data/himbul/D72_0688.jpg  \n",
            "  inflating: test_data/himbul/D72_0691.jpg  \n",
            "  inflating: test_data/himbul/DSC08357.jpg  \n",
            "  inflating: test_data/himbul/DSC_3230.jpg  \n",
            "  inflating: test_data/himbul/DSC_7439.jpg  \n",
            "  inflating: test_data/himbul/DSC_7602.jpg  \n",
            "  inflating: test_data/himbul/P1060368.jpg  \n",
            "  inflating: test_data/himbul/P1060369.jpg  \n",
            "  inflating: test_data/himbul/_D32_10242.jpg  \n",
            "  inflating: test_data/himbul/_D32_10245.jpg  \n",
            "  inflating: test_data/himbul/_D32_10251.jpg  \n",
            "  inflating: test_data/himbul/_D32_10319.jpg  \n",
            "  inflating: test_data/himbul/_D32_10320.jpg  \n",
            "  inflating: test_data/himbul/_DSC9446.jpg  \n",
            "   creating: test_data/himgri/\n",
            "  inflating: test_data/himgri/IMG_5384.JPG  \n",
            "  inflating: test_data/himgri/IMG_5385.JPG  \n",
            "  inflating: test_data/himgri/IMG_5386.JPG  \n",
            "  inflating: test_data/himgri/IMG_5387.JPG  \n",
            "  inflating: test_data/himgri/IMG_5459.JPG  \n",
            "  inflating: test_data/himgri/IMG_5460.JPG  \n",
            "  inflating: test_data/himgri/IMG_5487.JPG  \n",
            "  inflating: test_data/himgri/IMG_5488.JPG  \n",
            "  inflating: test_data/himgri/IMG_5489.JPG  \n",
            "  inflating: test_data/himgri/IMG_5490.JPG  \n",
            "  inflating: test_data/himgri/IMG_5491.JPG  \n",
            "  inflating: test_data/himgri/IMG_5492.JPG  \n",
            "  inflating: test_data/himgri/P1020742.jpg  \n",
            "  inflating: test_data/himgri/P1020743.jpg  \n",
            "  inflating: test_data/himgri/P1020746.jpg  \n",
            "  inflating: test_data/himgri/P1020748.jpg  \n",
            "  inflating: test_data/himgri/P1030055.jpg  \n",
            "  inflating: test_data/himgri/P1060776.jpg  \n",
            "  inflating: test_data/himgri/P1060777.jpg  \n",
            "  inflating: test_data/himgri/P1060778.jpg  \n",
            "   creating: test_data/hsparo/\n",
            "  inflating: test_data/hsparo/100_5573.JPG  \n",
            "  inflating: test_data/hsparo/100_5585.JPG  \n",
            "  inflating: test_data/hsparo/100_5586.JPG  \n",
            "  inflating: test_data/hsparo/100_5742.JPG  \n",
            "  inflating: test_data/hsparo/12265273154_48e0fefd42_o.jpg  \n",
            "  inflating: test_data/hsparo/DSC_4521.jpg  \n",
            "  inflating: test_data/hsparo/DSC_7619.jpg  \n",
            "  inflating: test_data/hsparo/_DSC_11244.jpg  \n",
            "  inflating: test_data/hsparo/_DSC_11246.jpg  \n",
            "   creating: test_data/indvul/\n",
            "  inflating: test_data/indvul/DSC_1263.jpg  \n",
            "  inflating: test_data/indvul/DSC_1273.jpg  \n",
            "  inflating: test_data/indvul/DSC_1274.jpg  \n",
            "  inflating: test_data/indvul/DSC_1275.jpg  \n",
            "  inflating: test_data/indvul/DSC_1277.jpg  \n",
            "  inflating: test_data/indvul/_DSC8754.jpg  \n",
            "  inflating: test_data/indvul/_DSC9520.jpg  \n",
            "  inflating: test_data/indvul/_DSC9521.jpg  \n",
            "  inflating: test_data/indvul/_DSC9523.jpg  \n",
            "   creating: test_data/jglowl/\n",
            "  inflating: test_data/jglowl/_D32_10584.jpg  \n",
            "  inflating: test_data/jglowl/_D32_10587.jpg  \n",
            "  inflating: test_data/jglowl/_D32_10593.jpg  \n",
            "  inflating: test_data/jglowl/_D32_13515.jpg  \n",
            "  inflating: test_data/jglowl/_D32_13516.jpg  \n",
            "  inflating: test_data/jglowl/_D32_13517.jpg  \n",
            "   creating: test_data/lbicrw/\n",
            "  inflating: test_data/lbicrw/100_4917.JPG  \n",
            "  inflating: test_data/lbicrw/IMG_5538.JPG  \n",
            "  inflating: test_data/lbicrw/IMG_5541.JPG  \n",
            "  inflating: test_data/lbicrw/IMG_5543.JPG  \n",
            "  inflating: test_data/lbicrw/IMG_5544.JPG  \n",
            "  inflating: test_data/lbicrw/P1030030.jpg  \n",
            "   creating: test_data/mgprob/\n",
            "  inflating: test_data/mgprob/100_5811.JPG  \n",
            "  inflating: test_data/mgprob/100_5812.JPG  \n",
            "  inflating: test_data/mgprob/100_5813.JPG  \n",
            "  inflating: test_data/mgprob/DSC_3233.jpg  \n",
            "  inflating: test_data/mgprob/_DSC0085.jpg  \n",
            "  inflating: test_data/mgprob/_DSC0133.jpg  \n",
            "  inflating: test_data/mgprob/_DSC0135.jpg  \n",
            "   creating: test_data/rebimg/\n",
            "  inflating: test_data/rebimg/100_5756.JPG  \n",
            "  inflating: test_data/rebimg/100_5757.JPG  \n",
            "  inflating: test_data/rebimg/100_5758.JPG  \n",
            "  inflating: test_data/rebimg/100_5759.JPG  \n",
            "  inflating: test_data/rebimg/100_5760.JPG  \n",
            "  inflating: test_data/rebimg/13009302395_5d88a9d62b_o.jpg  \n",
            "  inflating: test_data/rebimg/13009315305_f1cbfb6767_o.jpg  \n",
            "  inflating: test_data/rebimg/13009451823_8eb502581f_o.jpg  \n",
            "  inflating: test_data/rebimg/DSC_7148.jpg  \n",
            "  inflating: test_data/rebimg/IMG_5251.JPG  \n",
            "  inflating: test_data/rebimg/IMG_5252.JPG  \n",
            "   creating: test_data/wcrsrt/\n",
            "  inflating: test_data/wcrsrt/100_4462.JPG  \n",
            "  inflating: test_data/wcrsrt/100_4463.JPG  \n",
            "  inflating: test_data/wcrsrt/100_4464.JPG  \n",
            "  inflating: test_data/wcrsrt/100_4466.JPG  \n",
            "  inflating: test_data/wcrsrt/100_4467.JPG  \n",
            "  inflating: test_data/wcrsrt/100_4468.JPG  \n",
            "  inflating: test_data/wcrsrt/100_5103.JPG  \n",
            "  inflating: test_data/wcrsrt/100_5105.JPG  \n",
            "  inflating: test_data/wcrsrt/11382677585_ef6570a041_o.jpg  \n",
            "  inflating: test_data/wcrsrt/11382746854_7ce73793b3_o.jpg  \n"
          ]
        }
      ],
      "source": [
        "# Unzipping the compressed file\n",
        "!unzip '/content/drive/MyDrive/Datasets/test_data.zip'"
      ]
    },
    {
      "cell_type": "code",
      "source": [
        "# Data Augmentation\n",
        "from tensorflow.keras.preprocessing.image import ImageDataGenerator"
      ],
      "metadata": {
        "id": "G13Ycgabklj1"
      },
      "execution_count": 2,
      "outputs": []
    },
    {
      "cell_type": "code",
      "source": [
        "train_gen = ImageDataGenerator(rescale=(1./255),horizontal_flip=True,shear_range=0.2)\n",
        "test_gen = ImageDataGenerator(rescale=(1./255))"
      ],
      "metadata": {
        "id": "m7E9wuMDp4WB"
      },
      "execution_count": 3,
      "outputs": []
    },
    {
      "cell_type": "code",
      "source": [
        "train = train_gen.flow_from_directory('/content/test_data',\n",
        "                                      target_size=(120,120),\n",
        "                                      class_mode='categorical',\n",
        "                                      batch_size=8)\n",
        "test = train_gen.flow_from_directory('/content/test_data',\n",
        "                                      target_size=(120,120),\n",
        "                                      class_mode='categorical',\n",
        "                                      batch_size=8)"
      ],
      "metadata": {
        "colab": {
          "base_uri": "https://localhost:8080/"
        },
        "id": "2rSR4J_OpZMJ",
        "outputId": "8e35653e-2936-49f0-d158-0e18c82e7dab"
      },
      "execution_count": 4,
      "outputs": [
        {
          "output_type": "stream",
          "name": "stdout",
          "text": [
            "Found 157 images belonging to 16 classes.\n",
            "Found 157 images belonging to 16 classes.\n"
          ]
        }
      ]
    },
    {
      "cell_type": "code",
      "source": [
        "train.class_indices"
      ],
      "metadata": {
        "colab": {
          "base_uri": "https://localhost:8080/"
        },
        "id": "XE5hzSlHqRVI",
        "outputId": "0e8aad4f-b504-42a5-c118-f685738cb0fb"
      },
      "execution_count": 5,
      "outputs": [
        {
          "output_type": "execute_result",
          "data": {
            "text/plain": [
              "{'blasti': 0,\n",
              " 'bonegl': 1,\n",
              " 'brhkyt': 2,\n",
              " 'cbrtsh': 3,\n",
              " 'cmnmyn': 4,\n",
              " 'gretit': 5,\n",
              " 'hilpig': 6,\n",
              " 'himbul': 7,\n",
              " 'himgri': 8,\n",
              " 'hsparo': 9,\n",
              " 'indvul': 10,\n",
              " 'jglowl': 11,\n",
              " 'lbicrw': 12,\n",
              " 'mgprob': 13,\n",
              " 'rebimg': 14,\n",
              " 'wcrsrt': 15}"
            ]
          },
          "metadata": {},
          "execution_count": 5
        }
      ]
    },
    {
      "cell_type": "code",
      "source": [
        "# Building the CNN Model \n",
        "from tensorflow.keras.models import Sequential\n",
        "from tensorflow.keras.layers import Convolution2D,MaxPooling2D,Flatten,Dense"
      ],
      "metadata": {
        "id": "lkWdT149qW4H"
      },
      "execution_count": 6,
      "outputs": []
    },
    {
      "cell_type": "code",
      "source": [
        "model = Sequential()\n",
        "model.add(Convolution2D(20,(3,3),activation='relu',input_shape=(120,120,3)))\n",
        "model.add(MaxPooling2D(pool_size=(2,2)))\n",
        "model.add(Flatten())\n",
        "model.add(Dense(45,activation='relu'))\n",
        "model.add(Dense(32,activation='relu'))\n",
        "model.add(Dense(16,activation='softmax'))"
      ],
      "metadata": {
        "id": "5u89xDGfq2iB"
      },
      "execution_count": null,
      "outputs": []
    },
    {
      "cell_type": "code",
      "source": [
        "model.compile(optimizer='adam',loss='categorical_crossentropy',metrics=['accuracy'])"
      ],
      "metadata": {
        "id": "Ch78_P1OrXUY"
      },
      "execution_count": null,
      "outputs": []
    },
    {
      "cell_type": "code",
      "source": [
        "model.fit(train,batch_size=8,validation_data=test,epochs=10)"
      ],
      "metadata": {
        "colab": {
          "base_uri": "https://localhost:8080/"
        },
        "id": "zLt6Mwngrj13",
        "outputId": "677f4834-1706-4c98-ffed-e9084803b1b1"
      },
      "execution_count": null,
      "outputs": [
        {
          "output_type": "stream",
          "name": "stdout",
          "text": [
            "Epoch 1/10\n",
            "20/20 [==============================] - 82s 4s/step - loss: 4.2952 - accuracy: 0.0892 - val_loss: 2.8351 - val_accuracy: 0.0573\n",
            "Epoch 2/10\n",
            "20/20 [==============================] - 79s 4s/step - loss: 2.7695 - accuracy: 0.0637 - val_loss: 2.6758 - val_accuracy: 0.1529\n",
            "Epoch 3/10\n",
            "20/20 [==============================] - 80s 4s/step - loss: 2.6710 - accuracy: 0.1465 - val_loss: 2.5361 - val_accuracy: 0.2166\n",
            "Epoch 4/10\n",
            "20/20 [==============================] - 79s 4s/step - loss: 2.5231 - accuracy: 0.1656 - val_loss: 2.4511 - val_accuracy: 0.2166\n",
            "Epoch 5/10\n",
            "20/20 [==============================] - 79s 4s/step - loss: 2.4204 - accuracy: 0.2166 - val_loss: 2.2128 - val_accuracy: 0.2293\n",
            "Epoch 6/10\n",
            "20/20 [==============================] - 122s 6s/step - loss: 2.2297 - accuracy: 0.2930 - val_loss: 2.0399 - val_accuracy: 0.3057\n",
            "Epoch 7/10\n",
            "20/20 [==============================] - 81s 4s/step - loss: 1.9900 - accuracy: 0.3439 - val_loss: 1.8611 - val_accuracy: 0.4013\n",
            "Epoch 8/10\n",
            "20/20 [==============================] - 82s 4s/step - loss: 1.8109 - accuracy: 0.4586 - val_loss: 1.6639 - val_accuracy: 0.5032\n",
            "Epoch 9/10\n",
            "20/20 [==============================] - 79s 4s/step - loss: 1.7245 - accuracy: 0.4841 - val_loss: 1.5931 - val_accuracy: 0.5223\n",
            "Epoch 10/10\n",
            "20/20 [==============================] - 80s 4s/step - loss: 1.5751 - accuracy: 0.5350 - val_loss: 1.3484 - val_accuracy: 0.5987\n"
          ]
        },
        {
          "output_type": "execute_result",
          "data": {
            "text/plain": [
              "<keras.callbacks.History at 0x7f73fe1277c0>"
            ]
          },
          "metadata": {},
          "execution_count": 9
        }
      ]
    },
    {
      "cell_type": "code",
      "source": [],
      "metadata": {
        "id": "WV4Hd0y7rs6A"
      },
      "execution_count": null,
      "outputs": []
    },
    {
      "cell_type": "markdown",
      "source": [
        "# Model Tuning"
      ],
      "metadata": {
        "id": "OdfZohDtPDWp"
      }
    },
    {
      "cell_type": "code",
      "source": [
        "model = Sequential()\n",
        "model.add(Convolution2D(12,(3,3),activation='relu',input_shape=(120,120,3)))\n",
        "model.add(MaxPooling2D(pool_size=(2,2)))\n",
        "model.add(Convolution2D(24,(3,3),activation='relu'))\n",
        "model.add(MaxPooling2D(pool_size=(2,2)))\n",
        "model.add(Convolution2D(36,(3,3),activation='relu'))\n",
        "model.add(MaxPooling2D(pool_size=(2,2)))\n",
        "model.add(Flatten())\n",
        "model.add(Dense(45,activation='relu'))\n",
        "model.add(Dense(32,activation='relu'))\n",
        "model.add(Dense(16,activation='relu'))\n",
        "model.add(Dense(16,activation='softmax'))"
      ],
      "metadata": {
        "id": "amGU9rLOPDCB"
      },
      "execution_count": 9,
      "outputs": []
    },
    {
      "cell_type": "code",
      "source": [
        "model.summary()"
      ],
      "metadata": {
        "colab": {
          "base_uri": "https://localhost:8080/"
        },
        "id": "uUHhHDlpUhW6",
        "outputId": "2ca16e1f-c413-4c98-cc47-d49ce8a61b86"
      },
      "execution_count": 10,
      "outputs": [
        {
          "output_type": "stream",
          "name": "stdout",
          "text": [
            "Model: \"sequential_1\"\n",
            "_________________________________________________________________\n",
            " Layer (type)                Output Shape              Param #   \n",
            "=================================================================\n",
            " conv2d_3 (Conv2D)           (None, 118, 118, 12)      336       \n",
            "                                                                 \n",
            " max_pooling2d_3 (MaxPooling  (None, 59, 59, 12)       0         \n",
            " 2D)                                                             \n",
            "                                                                 \n",
            " conv2d_4 (Conv2D)           (None, 57, 57, 24)        2616      \n",
            "                                                                 \n",
            " max_pooling2d_4 (MaxPooling  (None, 28, 28, 24)       0         \n",
            " 2D)                                                             \n",
            "                                                                 \n",
            " conv2d_5 (Conv2D)           (None, 26, 26, 36)        7812      \n",
            "                                                                 \n",
            " max_pooling2d_5 (MaxPooling  (None, 13, 13, 36)       0         \n",
            " 2D)                                                             \n",
            "                                                                 \n",
            " flatten_1 (Flatten)         (None, 6084)              0         \n",
            "                                                                 \n",
            " dense_4 (Dense)             (None, 45)                273825    \n",
            "                                                                 \n",
            " dense_5 (Dense)             (None, 32)                1472      \n",
            "                                                                 \n",
            " dense_6 (Dense)             (None, 16)                528       \n",
            "                                                                 \n",
            " dense_7 (Dense)             (None, 16)                272       \n",
            "                                                                 \n",
            "=================================================================\n",
            "Total params: 286,861\n",
            "Trainable params: 286,861\n",
            "Non-trainable params: 0\n",
            "_________________________________________________________________\n"
          ]
        }
      ]
    },
    {
      "cell_type": "code",
      "source": [
        "model.compile(optimizer='adam',loss='categorical_crossentropy',metrics=['accuracy'])"
      ],
      "metadata": {
        "id": "v3VSARhrU0ZH"
      },
      "execution_count": 11,
      "outputs": []
    },
    {
      "cell_type": "code",
      "source": [
        "model.fit(train,batch_size=8,validation_data=test,epochs=100)"
      ],
      "metadata": {
        "colab": {
          "base_uri": "https://localhost:8080/"
        },
        "id": "g0qRlSA7U6I4",
        "outputId": "9b526b61-cc56-4259-dec0-1f490edd6e5d"
      },
      "execution_count": 12,
      "outputs": [
        {
          "output_type": "stream",
          "name": "stdout",
          "text": [
            "Epoch 1/100\n",
            "20/20 [==============================] - 112s 5s/step - loss: 2.7696 - accuracy: 0.0637 - val_loss: 2.7364 - val_accuracy: 0.0701\n",
            "Epoch 2/100\n",
            "20/20 [==============================] - 99s 5s/step - loss: 2.7216 - accuracy: 0.0701 - val_loss: 2.6946 - val_accuracy: 0.0701\n",
            "Epoch 3/100\n",
            "20/20 [==============================] - 100s 5s/step - loss: 2.6935 - accuracy: 0.0764 - val_loss: 2.6475 - val_accuracy: 0.1146\n",
            "Epoch 4/100\n",
            "20/20 [==============================] - 98s 5s/step - loss: 2.6377 - accuracy: 0.1083 - val_loss: 2.6226 - val_accuracy: 0.0892\n",
            "Epoch 5/100\n",
            "20/20 [==============================] - 99s 5s/step - loss: 2.6415 - accuracy: 0.1401 - val_loss: 2.5341 - val_accuracy: 0.1338\n",
            "Epoch 6/100\n",
            "20/20 [==============================] - 132s 7s/step - loss: 2.5615 - accuracy: 0.1465 - val_loss: 2.5041 - val_accuracy: 0.1146\n",
            "Epoch 7/100\n",
            "20/20 [==============================] - 99s 5s/step - loss: 2.4955 - accuracy: 0.1529 - val_loss: 2.4083 - val_accuracy: 0.2293\n",
            "Epoch 8/100\n",
            "20/20 [==============================] - 99s 5s/step - loss: 2.4449 - accuracy: 0.1720 - val_loss: 2.3190 - val_accuracy: 0.2420\n",
            "Epoch 9/100\n",
            "20/20 [==============================] - 132s 7s/step - loss: 2.2948 - accuracy: 0.2803 - val_loss: 2.4673 - val_accuracy: 0.2420\n",
            "Epoch 10/100\n",
            "20/20 [==============================] - 99s 5s/step - loss: 2.2928 - accuracy: 0.2357 - val_loss: 2.1608 - val_accuracy: 0.2866\n",
            "Epoch 11/100\n",
            "20/20 [==============================] - 101s 5s/step - loss: 2.1457 - accuracy: 0.2484 - val_loss: 2.0095 - val_accuracy: 0.3057\n",
            "Epoch 12/100\n",
            "20/20 [==============================] - 99s 5s/step - loss: 2.1969 - accuracy: 0.2866 - val_loss: 2.1618 - val_accuracy: 0.2866\n",
            "Epoch 13/100\n",
            "20/20 [==============================] - 100s 5s/step - loss: 2.1115 - accuracy: 0.2866 - val_loss: 2.0989 - val_accuracy: 0.3248\n",
            "Epoch 14/100\n",
            "20/20 [==============================] - 101s 5s/step - loss: 1.9325 - accuracy: 0.3312 - val_loss: 1.9816 - val_accuracy: 0.3057\n",
            "Epoch 15/100\n",
            "20/20 [==============================] - 99s 5s/step - loss: 1.8961 - accuracy: 0.3694 - val_loss: 1.8360 - val_accuracy: 0.4076\n",
            "Epoch 16/100\n",
            "20/20 [==============================] - 100s 5s/step - loss: 1.6662 - accuracy: 0.4140 - val_loss: 1.4735 - val_accuracy: 0.4968\n",
            "Epoch 17/100\n",
            "20/20 [==============================] - 99s 5s/step - loss: 1.5968 - accuracy: 0.4395 - val_loss: 1.5561 - val_accuracy: 0.5096\n",
            "Epoch 18/100\n",
            "20/20 [==============================] - 100s 5s/step - loss: 1.7168 - accuracy: 0.4395 - val_loss: 1.5383 - val_accuracy: 0.4395\n",
            "Epoch 19/100\n",
            "20/20 [==============================] - 99s 5s/step - loss: 1.4544 - accuracy: 0.5159 - val_loss: 1.2741 - val_accuracy: 0.5796\n",
            "Epoch 20/100\n",
            "20/20 [==============================] - 132s 7s/step - loss: 1.2349 - accuracy: 0.5669 - val_loss: 1.2856 - val_accuracy: 0.6306\n",
            "Epoch 21/100\n",
            "20/20 [==============================] - 100s 5s/step - loss: 1.2050 - accuracy: 0.5987 - val_loss: 1.1396 - val_accuracy: 0.6497\n",
            "Epoch 22/100\n",
            "20/20 [==============================] - 99s 5s/step - loss: 1.0775 - accuracy: 0.6178 - val_loss: 0.9077 - val_accuracy: 0.7006\n",
            "Epoch 23/100\n",
            "20/20 [==============================] - 132s 7s/step - loss: 1.0184 - accuracy: 0.6688 - val_loss: 0.9534 - val_accuracy: 0.7197\n",
            "Epoch 24/100\n",
            "20/20 [==============================] - 100s 5s/step - loss: 0.9021 - accuracy: 0.7261 - val_loss: 1.0057 - val_accuracy: 0.6752\n",
            "Epoch 25/100\n",
            "20/20 [==============================] - 99s 5s/step - loss: 1.1155 - accuracy: 0.6306 - val_loss: 1.1479 - val_accuracy: 0.6624\n",
            "Epoch 26/100\n",
            "20/20 [==============================] - 100s 5s/step - loss: 1.0287 - accuracy: 0.6433 - val_loss: 0.7894 - val_accuracy: 0.7580\n",
            "Epoch 27/100\n",
            "20/20 [==============================] - 99s 5s/step - loss: 0.7570 - accuracy: 0.7771 - val_loss: 0.6206 - val_accuracy: 0.8344\n",
            "Epoch 28/100\n",
            "20/20 [==============================] - 99s 5s/step - loss: 0.6319 - accuracy: 0.8408 - val_loss: 0.5568 - val_accuracy: 0.8153\n",
            "Epoch 29/100\n",
            "20/20 [==============================] - 101s 5s/step - loss: 0.5053 - accuracy: 0.8344 - val_loss: 0.4177 - val_accuracy: 0.8535\n",
            "Epoch 30/100\n",
            "20/20 [==============================] - 98s 5s/step - loss: 0.4704 - accuracy: 0.8726 - val_loss: 0.6067 - val_accuracy: 0.8344\n",
            "Epoch 31/100\n",
            "20/20 [==============================] - 100s 5s/step - loss: 0.6221 - accuracy: 0.8089 - val_loss: 0.5655 - val_accuracy: 0.8089\n",
            "Epoch 32/100\n",
            "20/20 [==============================] - 99s 5s/step - loss: 0.6003 - accuracy: 0.7898 - val_loss: 0.8835 - val_accuracy: 0.6497\n",
            "Epoch 33/100\n",
            "20/20 [==============================] - 100s 5s/step - loss: 0.6679 - accuracy: 0.7834 - val_loss: 0.5094 - val_accuracy: 0.8471\n",
            "Epoch 34/100\n",
            "20/20 [==============================] - 100s 5s/step - loss: 0.5310 - accuracy: 0.8408 - val_loss: 0.4959 - val_accuracy: 0.8599\n",
            "Epoch 35/100\n",
            "20/20 [==============================] - 99s 5s/step - loss: 0.4520 - accuracy: 0.8854 - val_loss: 0.6469 - val_accuracy: 0.8471\n",
            "Epoch 36/100\n",
            "20/20 [==============================] - 100s 5s/step - loss: 0.6185 - accuracy: 0.8025 - val_loss: 0.4581 - val_accuracy: 0.8599\n",
            "Epoch 37/100\n",
            "20/20 [==============================] - 99s 5s/step - loss: 0.4852 - accuracy: 0.8535 - val_loss: 0.3792 - val_accuracy: 0.8981\n",
            "Epoch 38/100\n",
            "20/20 [==============================] - 131s 7s/step - loss: 0.3142 - accuracy: 0.9172 - val_loss: 0.2371 - val_accuracy: 0.9490\n",
            "Epoch 39/100\n",
            "20/20 [==============================] - 100s 5s/step - loss: 0.2490 - accuracy: 0.9108 - val_loss: 0.2580 - val_accuracy: 0.9108\n",
            "Epoch 40/100\n",
            "20/20 [==============================] - 99s 5s/step - loss: 0.2163 - accuracy: 0.9172 - val_loss: 0.1387 - val_accuracy: 0.9682\n",
            "Epoch 41/100\n",
            "20/20 [==============================] - 100s 5s/step - loss: 0.1733 - accuracy: 0.9363 - val_loss: 0.1173 - val_accuracy: 0.9745\n",
            "Epoch 42/100\n",
            "20/20 [==============================] - 99s 5s/step - loss: 0.1610 - accuracy: 0.9554 - val_loss: 0.1186 - val_accuracy: 0.9554\n",
            "Epoch 43/100\n",
            "20/20 [==============================] - 99s 5s/step - loss: 0.2591 - accuracy: 0.9618 - val_loss: 0.2517 - val_accuracy: 0.9172\n",
            "Epoch 44/100\n",
            "20/20 [==============================] - 133s 7s/step - loss: 0.3148 - accuracy: 0.9236 - val_loss: 0.2497 - val_accuracy: 0.9108\n",
            "Epoch 45/100\n",
            "20/20 [==============================] - 132s 7s/step - loss: 0.2610 - accuracy: 0.8981 - val_loss: 0.1487 - val_accuracy: 0.9554\n",
            "Epoch 46/100\n",
            "20/20 [==============================] - 99s 5s/step - loss: 0.1611 - accuracy: 0.9490 - val_loss: 0.1128 - val_accuracy: 0.9745\n",
            "Epoch 47/100\n",
            "20/20 [==============================] - 132s 7s/step - loss: 0.2153 - accuracy: 0.9490 - val_loss: 0.4466 - val_accuracy: 0.8535\n",
            "Epoch 48/100\n",
            "20/20 [==============================] - 100s 5s/step - loss: 0.3366 - accuracy: 0.9045 - val_loss: 0.2795 - val_accuracy: 0.8854\n",
            "Epoch 49/100\n",
            "20/20 [==============================] - 99s 5s/step - loss: 0.2413 - accuracy: 0.9236 - val_loss: 0.1815 - val_accuracy: 0.9554\n",
            "Epoch 50/100\n",
            "20/20 [==============================] - 132s 7s/step - loss: 0.1356 - accuracy: 0.9682 - val_loss: 0.0733 - val_accuracy: 0.9809\n",
            "Epoch 51/100\n",
            "20/20 [==============================] - 99s 5s/step - loss: 0.0829 - accuracy: 0.9745 - val_loss: 0.0568 - val_accuracy: 0.9873\n",
            "Epoch 52/100\n",
            "20/20 [==============================] - 99s 5s/step - loss: 0.0892 - accuracy: 0.9809 - val_loss: 0.0553 - val_accuracy: 0.9873\n",
            "Epoch 53/100\n",
            "20/20 [==============================] - 100s 5s/step - loss: 0.0500 - accuracy: 0.9873 - val_loss: 0.0691 - val_accuracy: 0.9873\n",
            "Epoch 54/100\n",
            "20/20 [==============================] - 98s 5s/step - loss: 0.0578 - accuracy: 0.9809 - val_loss: 0.0749 - val_accuracy: 0.9809\n",
            "Epoch 55/100\n",
            "20/20 [==============================] - 98s 5s/step - loss: 0.0814 - accuracy: 0.9809 - val_loss: 0.0681 - val_accuracy: 0.9809\n",
            "Epoch 56/100\n",
            "20/20 [==============================] - 98s 5s/step - loss: 0.0819 - accuracy: 0.9745 - val_loss: 0.0797 - val_accuracy: 0.9809\n",
            "Epoch 57/100\n",
            "20/20 [==============================] - 99s 5s/step - loss: 0.1060 - accuracy: 0.9618 - val_loss: 0.1644 - val_accuracy: 0.9363\n",
            "Epoch 58/100\n",
            "20/20 [==============================] - 100s 5s/step - loss: 0.1370 - accuracy: 0.9618 - val_loss: 0.0828 - val_accuracy: 0.9809\n",
            "Epoch 59/100\n",
            "20/20 [==============================] - 100s 5s/step - loss: 0.1780 - accuracy: 0.9363 - val_loss: 0.1076 - val_accuracy: 0.9618\n",
            "Epoch 60/100\n",
            "20/20 [==============================] - 99s 5s/step - loss: 0.1024 - accuracy: 0.9554 - val_loss: 0.0563 - val_accuracy: 0.9809\n",
            "Epoch 61/100\n",
            "20/20 [==============================] - 101s 5s/step - loss: 0.0821 - accuracy: 0.9745 - val_loss: 0.0445 - val_accuracy: 0.9873\n",
            "Epoch 62/100\n",
            "20/20 [==============================] - 99s 5s/step - loss: 0.0664 - accuracy: 0.9809 - val_loss: 0.0369 - val_accuracy: 0.9873\n",
            "Epoch 63/100\n",
            "20/20 [==============================] - 100s 5s/step - loss: 0.0520 - accuracy: 0.9873 - val_loss: 0.0393 - val_accuracy: 0.9873\n",
            "Epoch 64/100\n",
            "20/20 [==============================] - 99s 5s/step - loss: 0.0591 - accuracy: 0.9809 - val_loss: 0.0574 - val_accuracy: 0.9809\n",
            "Epoch 65/100\n",
            "20/20 [==============================] - 98s 5s/step - loss: 0.0439 - accuracy: 0.9809 - val_loss: 0.0334 - val_accuracy: 0.9873\n",
            "Epoch 66/100\n",
            "20/20 [==============================] - 132s 7s/step - loss: 0.0471 - accuracy: 0.9809 - val_loss: 0.0267 - val_accuracy: 0.9873\n",
            "Epoch 67/100\n",
            "20/20 [==============================] - 99s 5s/step - loss: 0.0327 - accuracy: 0.9809 - val_loss: 0.0280 - val_accuracy: 0.9873\n",
            "Epoch 68/100\n",
            "20/20 [==============================] - 99s 5s/step - loss: 0.0323 - accuracy: 0.9873 - val_loss: 0.0202 - val_accuracy: 0.9873\n",
            "Epoch 69/100\n",
            "20/20 [==============================] - 99s 5s/step - loss: 0.0233 - accuracy: 0.9936 - val_loss: 0.0208 - val_accuracy: 0.9936\n",
            "Epoch 70/100\n",
            "20/20 [==============================] - 99s 5s/step - loss: 0.0349 - accuracy: 0.9873 - val_loss: 0.0220 - val_accuracy: 0.9873\n",
            "Epoch 71/100\n",
            "20/20 [==============================] - 101s 5s/step - loss: 0.0439 - accuracy: 0.9873 - val_loss: 0.0228 - val_accuracy: 0.9873\n",
            "Epoch 72/100\n",
            "20/20 [==============================] - 99s 5s/step - loss: 0.0259 - accuracy: 0.9936 - val_loss: 0.0178 - val_accuracy: 1.0000\n",
            "Epoch 73/100\n",
            "20/20 [==============================] - 99s 5s/step - loss: 0.0226 - accuracy: 0.9873 - val_loss: 0.0411 - val_accuracy: 0.9936\n",
            "Epoch 74/100\n",
            "20/20 [==============================] - 132s 7s/step - loss: 0.0461 - accuracy: 0.9936 - val_loss: 0.0354 - val_accuracy: 0.9936\n",
            "Epoch 75/100\n",
            "20/20 [==============================] - 132s 7s/step - loss: 0.0374 - accuracy: 0.9936 - val_loss: 0.0239 - val_accuracy: 0.9873\n",
            "Epoch 76/100\n",
            "20/20 [==============================] - 132s 7s/step - loss: 0.0270 - accuracy: 0.9873 - val_loss: 0.0195 - val_accuracy: 0.9936\n",
            "Epoch 77/100\n",
            "20/20 [==============================] - 132s 7s/step - loss: 0.0392 - accuracy: 0.9873 - val_loss: 0.0211 - val_accuracy: 0.9936\n",
            "Epoch 78/100\n",
            "20/20 [==============================] - 133s 7s/step - loss: 0.0206 - accuracy: 0.9936 - val_loss: 0.0196 - val_accuracy: 0.9936\n",
            "Epoch 79/100\n",
            "20/20 [==============================] - 101s 5s/step - loss: 0.0279 - accuracy: 0.9936 - val_loss: 0.0260 - val_accuracy: 0.9936\n",
            "Epoch 80/100\n",
            "20/20 [==============================] - 99s 5s/step - loss: 0.0163 - accuracy: 0.9936 - val_loss: 0.0179 - val_accuracy: 0.9936\n",
            "Epoch 81/100\n",
            "20/20 [==============================] - 99s 5s/step - loss: 0.0295 - accuracy: 0.9936 - val_loss: 0.0165 - val_accuracy: 0.9936\n",
            "Epoch 82/100\n",
            "20/20 [==============================] - 99s 5s/step - loss: 0.0199 - accuracy: 0.9936 - val_loss: 0.0164 - val_accuracy: 0.9936\n",
            "Epoch 83/100\n",
            "20/20 [==============================] - 100s 5s/step - loss: 0.0195 - accuracy: 0.9936 - val_loss: 0.0153 - val_accuracy: 0.9936\n",
            "Epoch 84/100\n",
            "20/20 [==============================] - 99s 5s/step - loss: 0.0191 - accuracy: 0.9936 - val_loss: 0.0138 - val_accuracy: 1.0000\n",
            "Epoch 85/100\n",
            "20/20 [==============================] - 98s 5s/step - loss: 0.0222 - accuracy: 0.9936 - val_loss: 0.0138 - val_accuracy: 0.9936\n",
            "Epoch 86/100\n",
            "20/20 [==============================] - 99s 5s/step - loss: 0.0225 - accuracy: 0.9873 - val_loss: 0.0155 - val_accuracy: 0.9873\n",
            "Epoch 87/100\n",
            "20/20 [==============================] - 133s 7s/step - loss: 0.0164 - accuracy: 0.9936 - val_loss: 0.0158 - val_accuracy: 0.9936\n",
            "Epoch 88/100\n",
            "20/20 [==============================] - 100s 5s/step - loss: 0.0223 - accuracy: 0.9873 - val_loss: 0.0150 - val_accuracy: 0.9936\n",
            "Epoch 89/100\n",
            "20/20 [==============================] - 99s 5s/step - loss: 0.0209 - accuracy: 0.9873 - val_loss: 0.0102 - val_accuracy: 1.0000\n",
            "Epoch 90/100\n",
            "20/20 [==============================] - 132s 7s/step - loss: 0.0262 - accuracy: 0.9936 - val_loss: 0.0201 - val_accuracy: 0.9936\n",
            "Epoch 91/100\n",
            "20/20 [==============================] - 132s 7s/step - loss: 0.0169 - accuracy: 0.9936 - val_loss: 0.0149 - val_accuracy: 0.9936\n",
            "Epoch 92/100\n",
            "20/20 [==============================] - 98s 5s/step - loss: 0.0190 - accuracy: 0.9936 - val_loss: 0.0142 - val_accuracy: 0.9936\n",
            "Epoch 93/100\n",
            "20/20 [==============================] - 98s 5s/step - loss: 0.0180 - accuracy: 0.9936 - val_loss: 0.0167 - val_accuracy: 0.9936\n",
            "Epoch 94/100\n",
            "20/20 [==============================] - 132s 7s/step - loss: 0.0171 - accuracy: 0.9936 - val_loss: 0.0266 - val_accuracy: 0.9936\n",
            "Epoch 95/100\n",
            "20/20 [==============================] - 99s 5s/step - loss: 0.0303 - accuracy: 0.9936 - val_loss: 0.0168 - val_accuracy: 0.9936\n",
            "Epoch 96/100\n",
            "20/20 [==============================] - 99s 5s/step - loss: 0.0219 - accuracy: 0.9873 - val_loss: 0.0136 - val_accuracy: 0.9936\n",
            "Epoch 97/100\n",
            "20/20 [==============================] - 99s 5s/step - loss: 0.0143 - accuracy: 0.9873 - val_loss: 0.0151 - val_accuracy: 0.9873\n",
            "Epoch 98/100\n",
            "20/20 [==============================] - 100s 5s/step - loss: 0.0155 - accuracy: 0.9936 - val_loss: 0.0158 - val_accuracy: 0.9936\n",
            "Epoch 99/100\n",
            "20/20 [==============================] - 99s 5s/step - loss: 0.0169 - accuracy: 0.9936 - val_loss: 0.0122 - val_accuracy: 0.9936\n",
            "Epoch 100/100\n",
            "20/20 [==============================] - 101s 5s/step - loss: 0.0252 - accuracy: 0.9936 - val_loss: 0.0154 - val_accuracy: 0.9936\n"
          ]
        },
        {
          "output_type": "execute_result",
          "data": {
            "text/plain": [
              "<keras.callbacks.History at 0x7f41688a46a0>"
            ]
          },
          "metadata": {},
          "execution_count": 12
        }
      ]
    },
    {
      "cell_type": "code",
      "source": [
        "model.save('birdModel.h5')"
      ],
      "metadata": {
        "id": "oqv79g6wtAaJ"
      },
      "execution_count": 38,
      "outputs": []
    },
    {
      "cell_type": "code",
      "source": [
        "# Testing \n",
        "\n",
        "import numpy as np\n",
        "from tensorflow.keras.preprocessing import image"
      ],
      "metadata": {
        "id": "oPLhhXSAWLqe"
      },
      "execution_count": 13,
      "outputs": []
    },
    {
      "cell_type": "code",
      "source": [
        "img = image.load_img('/content/test_data/wcrsrt/100_4464.JPG',target_size=(120,120))\n",
        "img"
      ],
      "metadata": {
        "colab": {
          "base_uri": "https://localhost:8080/",
          "height": 137
        },
        "id": "G_qEcMOBWYHl",
        "outputId": "32b3fca6-a360-400b-d48d-196faf36d5cc"
      },
      "execution_count": 34,
      "outputs": [
        {
          "output_type": "execute_result",
          "data": {
            "text/plain": [
              "<PIL.Image.Image image mode=RGB size=120x120 at 0x7F41684C3A60>"
            ],
            "image/png": "[encoded data removed]"
          },
          "metadata": {},
          "execution_count": 34
        }
      ]
    },
    {
      "cell_type": "code",
      "source": [
        "img = image.img_to_array(img)\n",
        "img"
      ],
      "metadata": {
        "colab": {
          "base_uri": "https://localhost:8080/"
        },
        "id": "iDaXqO4eW4GF",
        "outputId": "79e8e685-8c5f-4819-a4db-cc903b9268a0"
      },
      "execution_count": 35,
      "outputs": [
        {
          "output_type": "execute_result",
          "data": {
            "text/plain": [
              "array([[[ 66.,  59.,  51.],\n",
              "        [ 63.,  63.,  55.],\n",
              "        [ 87.,  86.,  84.],\n",
              "        ...,\n",
              "        [ 51.,  49.,  54.],\n",
              "        [ 47.,  43.,  44.],\n",
              "        [ 59.,  52.,  59.]],\n",
              "\n",
              "       [[ 63.,  64.,  46.],\n",
              "        [ 52.,  54.,  49.],\n",
              "        [ 94.,  99., 102.],\n",
              "        ...,\n",
              "        [ 32.,  29.,  38.],\n",
              "        [ 39.,  34.,  38.],\n",
              "        [ 86.,  83., 100.]],\n",
              "\n",
              "       [[ 63.,  66.,  47.],\n",
              "        [ 83.,  92.,  75.],\n",
              "        [ 47.,  32.,  29.],\n",
              "        ...,\n",
              "        [ 71.,  71.,  69.],\n",
              "        [ 42.,  36.,  40.],\n",
              "        [ 79.,  73.,  85.]],\n",
              "\n",
              "       ...,\n",
              "\n",
              "       [[ 45.,  43.,  46.],\n",
              "        [ 41.,  43.,  42.],\n",
              "        [ 53.,  47.,  61.],\n",
              "        ...,\n",
              "        [ 73.,  86.,  79.],\n",
              "        [ 78.,  90.,  88.],\n",
              "        [ 67.,  56.,  64.]],\n",
              "\n",
              "       [[ 36.,  32.,  31.],\n",
              "        [ 57.,  65.,  52.],\n",
              "        [ 90.,  97., 107.],\n",
              "        ...,\n",
              "        [ 60.,  60.,  52.],\n",
              "        [ 58.,  58.,  68.],\n",
              "        [ 96.,  93., 102.]],\n",
              "\n",
              "       [[ 35.,  33.,  36.],\n",
              "        [ 36.,  35.,  43.],\n",
              "        [ 76.,  85.,  84.],\n",
              "        ...,\n",
              "        [ 89.,  84.,  80.],\n",
              "        [102.,  96., 110.],\n",
              "        [103., 100.,  95.]]], dtype=float32)"
            ]
          },
          "metadata": {},
          "execution_count": 35
        }
      ]
    },
    {
      "cell_type": "code",
      "source": [
        "img = np.expand_dims(img,axis=0)\n",
        "img"
      ],
      "metadata": {
        "colab": {
          "base_uri": "https://localhost:8080/"
        },
        "id": "7696dxMjW_tQ",
        "outputId": "e48aef56-9109-4044-c7fe-4fa2d0c616c4"
      },
      "execution_count": 36,
      "outputs": [
        {
          "output_type": "execute_result",
          "data": {
            "text/plain": [
              "array([[[[ 66.,  59.,  51.],\n",
              "         [ 63.,  63.,  55.],\n",
              "         [ 87.,  86.,  84.],\n",
              "         ...,\n",
              "         [ 51.,  49.,  54.],\n",
              "         [ 47.,  43.,  44.],\n",
              "         [ 59.,  52.,  59.]],\n",
              "\n",
              "        [[ 63.,  64.,  46.],\n",
              "         [ 52.,  54.,  49.],\n",
              "         [ 94.,  99., 102.],\n",
              "         ...,\n",
              "         [ 32.,  29.,  38.],\n",
              "         [ 39.,  34.,  38.],\n",
              "         [ 86.,  83., 100.]],\n",
              "\n",
              "        [[ 63.,  66.,  47.],\n",
              "         [ 83.,  92.,  75.],\n",
              "         [ 47.,  32.,  29.],\n",
              "         ...,\n",
              "         [ 71.,  71.,  69.],\n",
              "         [ 42.,  36.,  40.],\n",
              "         [ 79.,  73.,  85.]],\n",
              "\n",
              "        ...,\n",
              "\n",
              "        [[ 45.,  43.,  46.],\n",
              "         [ 41.,  43.,  42.],\n",
              "         [ 53.,  47.,  61.],\n",
              "         ...,\n",
              "         [ 73.,  86.,  79.],\n",
              "         [ 78.,  90.,  88.],\n",
              "         [ 67.,  56.,  64.]],\n",
              "\n",
              "        [[ 36.,  32.,  31.],\n",
              "         [ 57.,  65.,  52.],\n",
              "         [ 90.,  97., 107.],\n",
              "         ...,\n",
              "         [ 60.,  60.,  52.],\n",
              "         [ 58.,  58.,  68.],\n",
              "         [ 96.,  93., 102.]],\n",
              "\n",
              "        [[ 35.,  33.,  36.],\n",
              "         [ 36.,  35.,  43.],\n",
              "         [ 76.,  85.,  84.],\n",
              "         ...,\n",
              "         [ 89.,  84.,  80.],\n",
              "         [102.,  96., 110.],\n",
              "         [103., 100.,  95.]]]], dtype=float32)"
            ]
          },
          "metadata": {},
          "execution_count": 36
        }
      ]
    },
    {
      "cell_type": "code",
      "source": [
        "np.argmax(model.predict(img))"
      ],
      "metadata": {
        "colab": {
          "base_uri": "https://localhost:8080/"
        },
        "id": "_nyj0z9ZXGRX",
        "outputId": "dbd3fe85-2bcd-46f3-faa3-37c8a439733a"
      },
      "execution_count": 37,
      "outputs": [
        {
          "output_type": "stream",
          "name": "stdout",
          "text": [
            "1/1 [==============================] - 0s 18ms/step\n"
          ]
        },
        {
          "output_type": "execute_result",
          "data": {
            "text/plain": [
              "9"
            ]
          },
          "metadata": {},
          "execution_count": 37
        }
      ]
    },
    {
      "cell_type": "code",
      "source": [],
      "metadata": {
        "id": "hXgZIhY_XL9Z"
      },
      "execution_count": null,
      "outputs": []
    }
  ]
}